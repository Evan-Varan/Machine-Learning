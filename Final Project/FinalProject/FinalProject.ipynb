{
 "cells": [
  {
   "cell_type": "markdown",
   "source": [
    "### Read in Data\n",
    "\n",
    "1. Dataset Overview\n",
    "audio_features: Shows individual arrays of numerical features as strings. This is expected at this stage, as you haven’t yet converted these to actual numerical arrays.\n",
    "model_type: All rows belong to one type (A). This may suggest a lack of diversity in the model_type column, which might not be useful for classification if it doesn’t vary.\n",
    "maneuvering_direction: Contains six unique values (e.g., R, CC, C), representing directions such as Right, Counter-Clockwise, and so on.\n",
    "fault: Contains nine unique values (e.g., PC3, MF3).\n",
    "2. Column Statistics\n",
    "Count: Every column has 64,800 non-null entries, so there are no missing values. This is great for training machine learning models.\n",
    "Unique:\n",
    "audio_features: 64,800 unique rows, meaning no duplicate audio feature data.\n",
    "model_type: Only one unique value (A), which makes it unsuitable for classification. You may need to ignore this column unless your dataset changes.\n",
    "maneuvering_direction and fault: These have a manageable number of unique categories for classification tasks.\n",
    "Top/Freq:\n",
    "Indicates the most common values (top) and their frequencies (freq). For instance:\n",
    "maneuvering_direction → R is the most frequent with 10,800 entries.\n",
    "fault → PC3 is the most frequent with 7,200 entries."
   ],
   "metadata": {
    "collapsed": false
   },
   "id": "38c09995b3a576f9"
  },
  {
   "cell_type": "code",
   "outputs": [
    {
     "name": "stdout",
     "output_type": "stream",
     "text": [
      "                                      audio_features model_type  \\\n",
      "0  [-60.44415   116.25432   -46.292316   65.45784...          A   \n",
      "1  [-58.29744   107.7279    -46.689884   59.33999...          A   \n",
      "2  [-60.845535   116.55775    -44.339348    69.30...          A   \n",
      "3  [-74.25324   109.67719   -34.924404   71.4471 ...          A   \n",
      "4  [-76.636406   113.815056   -41.341892    68.81...          A   \n",
      "\n",
      "  maneuvering_direction fault  \n",
      "0                     R   PC3  \n",
      "1                     R   MF3  \n",
      "2                    CC   MF1  \n",
      "3                     C   MF4  \n",
      "4                     F   MF2  \n",
      "                                           audio_features model_type  \\\n",
      "count                                               64800      64800   \n",
      "unique                                              64800          1   \n",
      "top     [-56.820847   118.1124     -46.04536     74.49...          A   \n",
      "freq                                                    1      64800   \n",
      "\n",
      "       maneuvering_direction  fault  \n",
      "count                  64800  64800  \n",
      "unique                     6      9  \n",
      "top                        R    PC3  \n",
      "freq                   10800   7200  \n",
      "model_type\n",
      "A    64800\n",
      "Name: count, dtype: int64\n",
      "audio_features           0\n",
      "model_type               0\n",
      "maneuvering_direction    0\n",
      "fault                    0\n",
      "dtype: int64\n"
     ]
    }
   ],
   "source": [
    "import pandas as pd\n",
    "\n",
    "# Replace with the actual path to your downloaded file\n",
    "data = pd.read_csv(\"Data.csv\")\n",
    "\n",
    "# View the first few rows\n",
    "print(data.head())\n",
    "print(data.describe())  # Summary statistics\n",
    "print(data['model_type'].value_counts())  # Unique values for drone models\n",
    "print(data.isnull().sum())"
   ],
   "metadata": {
    "collapsed": false,
    "ExecuteTime": {
     "end_time": "2024-12-01T01:40:51.047056Z",
     "start_time": "2024-12-01T01:40:50.304092300Z"
    }
   },
   "id": "7be01ba2dd2d9155",
   "execution_count": 63
  },
  {
   "cell_type": "markdown",
   "source": [
    "### Convert the audio column and extract features and labels\n",
    "Explanation of the Output\n",
    "Feature Matrix (X):\n",
    "\n",
    "Shape: (64800, 40)\n",
    "64800: The number of samples (rows) in your dataset.\n",
    "40: The number of features (columns) in each audio_features array. This is consistent with your dataset's structure, where each sample's audio features are represented as a 40-dimensional array.\n",
    "Model Labels (y_model):\n",
    "\n",
    "Shape: (64800,)\n",
    "This is a 1D array with one label for each of the 64,800 samples, corresponding to the drone's model_type.\n",
    "Maneuvering Labels (y_maneuver):\n",
    "\n",
    "Shape: (64800,)\n",
    "Similarly, this is a 1D array with one label per sample, describing the maneuvering_direction (e.g., R, CC, C).\n",
    "Fault Labels (y_fault):\n",
    "\n",
    "Shape: (64800,)\n",
    "This 1D array contains the fault types for each sample (e.g., PC3, MF3)."
   ],
   "metadata": {
    "collapsed": false
   },
   "id": "501ed384d49c0f7b"
  },
  {
   "cell_type": "code",
   "outputs": [
    {
     "name": "stdout",
     "output_type": "stream",
     "text": [
      "Feature Matrix (X): (64800, 40)\n",
      "Model Labels (y_model): (64800,)\n",
      "Maneuvering Labels (y_maneuver): (64800,)\n",
      "Fault Labels (y_fault): (64800,)\n"
     ]
    }
   ],
   "source": [
    "import numpy as np\n",
    "# This method converts the audio column into a useable array\n",
    "def parse_audio_features(feature_string):\n",
    "    #Strips brackets and converts string to array\n",
    "    return np.fromstring(feature_string.strip('[]'), sep=' ')\n",
    "\n",
    "# Apply the function to all rows in the audio_features column\n",
    "data['audio_features'] = data['audio_features'].apply(parse_audio_features)\n",
    "\n",
    "# Separate features (X) and labels (y) for different classification tasks\n",
    "# Extract the audio features into a feature matrix (X)\n",
    "X = np.stack(data['audio_features'].values)\n",
    "\n",
    "# Extract labels for classification tasks\n",
    "y_model = data['model_type']                # Drone model classification\n",
    "y_maneuver = data['maneuvering_direction']  # Maneuvering direction classification\n",
    "y_fault = data['fault']                     # Fault detection classification\n",
    "\n",
    "# Print the shapes of the feature matrix and label arrays for verification\n",
    "print(\"Feature Matrix (X):\", X.shape)\n",
    "print(\"Model Labels (y_model):\", y_model.shape)\n",
    "print(\"Maneuvering Labels (y_maneuver):\", y_maneuver.shape)\n",
    "print(\"Fault Labels (y_fault):\", y_fault.shape)"
   ],
   "metadata": {
    "collapsed": false,
    "ExecuteTime": {
     "end_time": "2024-12-01T01:40:52.544855500Z",
     "start_time": "2024-12-01T01:40:51.053049300Z"
    }
   },
   "id": "e1a2597ecaf80095",
   "execution_count": 64
  },
  {
   "cell_type": "markdown",
   "source": [
    "### Data Splitting\n",
    "The 80/20 split is a commonly used ratio in machine learning for dividing a dataset into training and testing subsets. With 20% testing data, you generally have enough samples to reliably measure metrics like accuracy, precision, recall, and F1-score."
   ],
   "metadata": {
    "collapsed": false
   },
   "id": "8ede73eb8d69d142"
  },
  {
   "cell_type": "code",
   "outputs": [
    {
     "name": "stdout",
     "output_type": "stream",
     "text": [
      "Model Type Training Data: (51840, 40) (51840,)\n",
      "Model Type Testing Data: (12960, 40) (12960,)\n",
      "Maneuvering Training Data: (51840, 40) (51840,)\n",
      "Maneuvering Testing Data: (12960, 40) (12960,)\n",
      "Fault Training Data: (51840, 40) (51840,)\n",
      "Fault Testing Data: (12960, 40) (12960,)\n"
     ]
    }
   ],
   "source": [
    "from sklearn.model_selection import train_test_split\n",
    "\n",
    "# Split the feature matrix (X) and each label (y) into training and testing sets\n",
    "\n",
    "# For model_type classification\n",
    "X_train_model, X_test_model, y_train_model, y_test_model = train_test_split(\n",
    "    X, y_model, test_size=0.2, random_state=42\n",
    ")\n",
    "\n",
    "# For maneuvering_direction classification\n",
    "X_train_maneuver, X_test_maneuver, y_train_maneuver, y_test_maneuver = train_test_split(\n",
    "    X, y_maneuver, test_size=0.2, random_state=42\n",
    ")\n",
    "\n",
    "# For fault classification\n",
    "X_train_fault, X_test_fault, y_train_fault, y_test_fault = train_test_split(\n",
    "    X, y_fault, test_size=0.2, random_state=42\n",
    ")\n",
    "\n",
    "# Verify the shapes of the splits\n",
    "print(\"Model Type Training Data:\", X_train_model.shape, y_train_model.shape)\n",
    "print(\"Model Type Testing Data:\", X_test_model.shape, y_test_model.shape)\n",
    "\n",
    "print(\"Maneuvering Training Data:\", X_train_maneuver.shape, y_train_maneuver.shape)\n",
    "print(\"Maneuvering Testing Data:\", X_test_maneuver.shape, y_test_maneuver.shape)\n",
    "\n",
    "print(\"Fault Training Data:\", X_train_fault.shape, y_train_fault.shape)\n",
    "print(\"Fault Testing Data:\", X_test_fault.shape, y_test_fault.shape)"
   ],
   "metadata": {
    "collapsed": false,
    "ExecuteTime": {
     "end_time": "2024-12-01T01:40:52.594415800Z",
     "start_time": "2024-12-01T01:40:52.543858400Z"
    }
   },
   "id": "dc60e25ab8ccaf36",
   "execution_count": 65
  },
  {
   "cell_type": "markdown",
   "source": [
    "### CNN Model Creation"
   ],
   "metadata": {
    "collapsed": false
   },
   "id": "43393144f78833c6"
  },
  {
   "cell_type": "code",
   "outputs": [
    {
     "name": "stdout",
     "output_type": "stream",
     "text": [
      "Class Weights: {0: np.float64(1.0)}\n",
      "Epoch 1/10\n",
      "\u001B[1m1620/1620\u001B[0m \u001B[32m━━━━━━━━━━━━━━━━━━━━\u001B[0m\u001B[37m\u001B[0m \u001B[1m7s\u001B[0m 4ms/step - accuracy: 0.9958 - loss: 0.0211 - val_accuracy: 1.0000 - val_loss: 5.1331e-22\n",
      "Epoch 2/10\n",
      "\u001B[1m1620/1620\u001B[0m \u001B[32m━━━━━━━━━━━━━━━━━━━━\u001B[0m\u001B[37m\u001B[0m \u001B[1m6s\u001B[0m 4ms/step - accuracy: 1.0000 - loss: 3.5827e-11 - val_accuracy: 1.0000 - val_loss: 4.7393e-22\n",
      "Epoch 3/10\n",
      "\u001B[1m1620/1620\u001B[0m \u001B[32m━━━━━━━━━━━━━━━━━━━━\u001B[0m\u001B[37m\u001B[0m \u001B[1m6s\u001B[0m 4ms/step - accuracy: 1.0000 - loss: 5.5917e-12 - val_accuracy: 1.0000 - val_loss: 4.6373e-22\n",
      "Epoch 4/10\n",
      "\u001B[1m1620/1620\u001B[0m \u001B[32m━━━━━━━━━━━━━━━━━━━━\u001B[0m\u001B[37m\u001B[0m \u001B[1m6s\u001B[0m 4ms/step - accuracy: 1.0000 - loss: 1.4849e-12 - val_accuracy: 1.0000 - val_loss: 4.5924e-22\n",
      "Epoch 5/10\n",
      "\u001B[1m1620/1620\u001B[0m \u001B[32m━━━━━━━━━━━━━━━━━━━━\u001B[0m\u001B[37m\u001B[0m \u001B[1m6s\u001B[0m 4ms/step - accuracy: 1.0000 - loss: 6.7618e-12 - val_accuracy: 1.0000 - val_loss: 3.8472e-22\n",
      "Epoch 6/10\n",
      "\u001B[1m1620/1620\u001B[0m \u001B[32m━━━━━━━━━━━━━━━━━━━━\u001B[0m\u001B[37m\u001B[0m \u001B[1m6s\u001B[0m 4ms/step - accuracy: 1.0000 - loss: 3.3096e-12 - val_accuracy: 1.0000 - val_loss: 3.7273e-22\n",
      "Epoch 7/10\n",
      "\u001B[1m1620/1620\u001B[0m \u001B[32m━━━━━━━━━━━━━━━━━━━━\u001B[0m\u001B[37m\u001B[0m \u001B[1m6s\u001B[0m 4ms/step - accuracy: 1.0000 - loss: 4.9405e-12 - val_accuracy: 1.0000 - val_loss: 3.4769e-22\n",
      "Epoch 8/10\n",
      "\u001B[1m1620/1620\u001B[0m \u001B[32m━━━━━━━━━━━━━━━━━━━━\u001B[0m\u001B[37m\u001B[0m \u001B[1m6s\u001B[0m 4ms/step - accuracy: 1.0000 - loss: 6.5278e-12 - val_accuracy: 1.0000 - val_loss: 3.2292e-22\n",
      "Epoch 9/10\n",
      "\u001B[1m1620/1620\u001B[0m \u001B[32m━━━━━━━━━━━━━━━━━━━━\u001B[0m\u001B[37m\u001B[0m \u001B[1m6s\u001B[0m 4ms/step - accuracy: 1.0000 - loss: 4.9343e-12 - val_accuracy: 1.0000 - val_loss: 3.1550e-22\n",
      "Epoch 10/10\n",
      "\u001B[1m1620/1620\u001B[0m \u001B[32m━━━━━━━━━━━━━━━━━━━━\u001B[0m\u001B[37m\u001B[0m \u001B[1m6s\u001B[0m 4ms/step - accuracy: 1.0000 - loss: 3.5337e-12 - val_accuracy: 1.0000 - val_loss: 3.0647e-22\n",
      "\u001B[1m405/405\u001B[0m \u001B[32m━━━━━━━━━━━━━━━━━━━━\u001B[0m\u001B[37m\u001B[0m \u001B[1m1s\u001B[0m 2ms/step - accuracy: 1.0000 - loss: 3.0163e-22\n",
      "Test Loss: 0.0000, Test Accuracy: 1.0000\n"
     ]
    },
    {
     "data": {
      "text/plain": "<Figure size 1200x600 with 1 Axes>",
      "image/png": "[encoded data removed]"
     },
     "metadata": {},
     "output_type": "display_data"
    },
    {
     "data": {
      "text/plain": "<Figure size 1200x600 with 1 Axes>",
      "image/png": "[encoded data removed]"
     },
     "metadata": {},
     "output_type": "display_data"
    },
    {
     "name": "stdout",
     "output_type": "stream",
     "text": [
      "X_train_cnn shape: (51840, 40, 1)\n",
      "X_test_cnn shape: (12960, 40, 1)\n",
      "Model Input shape: (None, 40, 1)\n"
     ]
    }
   ],
   "source": [
    "# Import necessary libraries\n",
    "import tensorflow as tf\n",
    "from sklearn.model_selection import train_test_split\n",
    "from sklearn.preprocessing import LabelEncoder\n",
    "from sklearn.utils.class_weight import compute_class_weight\n",
    "import numpy as np\n",
    "import matplotlib.pyplot as plt\n",
    "\n",
    "y = y_model.values\n",
    "# --- Step 1: Stratified Splitting ---\n",
    "# Ensure balanced splitting of dataset\n",
    "X_train, X_test, y_train, y_test = train_test_split(\n",
    "    X, y, test_size=0.2, stratify=y, random_state=42\n",
    ")\n",
    "\n",
    "# --- Step 2: Preprocess Labels ---\n",
    "# Encode labels to integers (if categorical)\n",
    "encoder = LabelEncoder()\n",
    "y_train_encoded = encoder.fit_transform(y_train)\n",
    "y_test_encoded = encoder.transform(y_test)\n",
    "\n",
    "# --- Step 3: Compute Class Weights ---\n",
    "# Handle class imbalance by computing weights for each class\n",
    "class_weights = compute_class_weight('balanced', classes=np.unique(y_train_encoded), y=y_train_encoded)\n",
    "class_weight_dict = dict(enumerate(class_weights))\n",
    "\n",
    "print(\"Class Weights:\", class_weight_dict)\n",
    "\n",
    "# --- Step 4: Reshape Input Data ---\n",
    "# Add a channel dimension to the input data (needed for Conv1D)\n",
    "X_train_cnn = np.expand_dims(X_train, axis=-1)\n",
    "X_test_cnn = np.expand_dims(X_test, axis=-1)\n",
    "\n",
    "# --- Step 5: Build the CNN Model ---\n",
    "cnn_model = tf.keras.Sequential([\n",
    "    tf.keras.layers.Input(shape=(X_train_cnn.shape[1], 1)),  # Explicit input layer\n",
    "    tf.keras.layers.Conv1D(32, kernel_size=3, activation='relu'),\n",
    "    tf.keras.layers.MaxPooling1D(pool_size=2),\n",
    "    tf.keras.layers.Conv1D(64, kernel_size=3, activation='relu'),\n",
    "    tf.keras.layers.MaxPooling1D(pool_size=2),\n",
    "    tf.keras.layers.Flatten(),\n",
    "    tf.keras.layers.Dense(128, activation='relu'),\n",
    "    tf.keras.layers.Dropout(0.5),\n",
    "    tf.keras.layers.Dense(1, activation='sigmoid')  # Use sigmoid for binary classification\n",
    "])\n",
    "\n",
    "# Compile the model\n",
    "cnn_model.compile(\n",
    "    optimizer=tf.keras.optimizers.Adam(learning_rate=0.001),\n",
    "    loss='binary_crossentropy',  # Binary classification loss\n",
    "    metrics=['accuracy']\n",
    ")\n",
    "\n",
    "# --- Step 6: Train the Model ---\n",
    "history = cnn_model.fit(\n",
    "    X_train_model, y_train_encoded,\n",
    "    validation_data=(X_test_cnn, y_test_encoded),\n",
    "    epochs=10,\n",
    "    batch_size=32\n",
    ")\n",
    "\n",
    "# --- Step 7: Evaluate the Model ---\n",
    "loss, accuracy = cnn_model.evaluate(X_test_cnn, y_test_encoded)\n",
    "print(f\"Test Loss: {loss:.4f}, Test Accuracy: {accuracy:.4f}\")\n",
    "\n",
    "# --- Step 8: Save the Model ---\n",
    "cnn_model.save('cnn_model.keras')  # New recommended format\n",
    "\n",
    "\n",
    "# --- Step 9: Visualize Training Progress ---\n",
    "# Plot training and validation loss\n",
    "plt.figure(figsize=(12, 6))\n",
    "plt.plot(history.history['loss'], label='Training Loss')\n",
    "plt.plot(history.history['val_loss'], label='Validation Loss')\n",
    "plt.title('Training and Validation Loss')\n",
    "plt.xlabel('Epoch')\n",
    "plt.ylabel('Loss')\n",
    "plt.legend()\n",
    "plt.show()\n",
    "\n",
    "# Plot training and validation accuracy\n",
    "plt.figure(figsize=(12, 6))\n",
    "plt.plot(history.history['accuracy'], label='Training Accuracy')\n",
    "plt.plot(history.history['val_accuracy'], label='Validation Accuracy')\n",
    "plt.title('Training and Validation Accuracy')\n",
    "plt.xlabel('Epoch')\n",
    "plt.ylabel('Accuracy')\n",
    "plt.legend()\n",
    "plt.show()\n",
    "\n",
    "print(\"X_train_cnn shape:\", X_train_cnn.shape)\n",
    "print(\"X_test_cnn shape:\", X_test_cnn.shape)\n",
    "print(\"Model Input shape:\", cnn_model.input_shape)"
   ],
   "metadata": {
    "collapsed": false,
    "ExecuteTime": {
     "end_time": "2024-12-01T01:41:54.887788800Z",
     "start_time": "2024-12-01T01:40:52.594415800Z"
    }
   },
   "id": "a2a3de5692f3b6a2",
   "execution_count": 66
  },
  {
   "cell_type": "code",
   "outputs": [
    {
     "name": "stdout",
     "output_type": "stream",
     "text": [
      "\u001B[1m405/405\u001B[0m \u001B[32m━━━━━━━━━━━━━━━━━━━━\u001B[0m\u001B[37m\u001B[0m \u001B[1m1s\u001B[0m 1ms/step\n",
      "Unique classes in y_test_encoded: [0]\n",
      "Class distribution in y_test_encoded: [12960]\n",
      "Unique predictions: [0]\n",
      "Classification Report:\n",
      "              precision    recall  f1-score   support\n",
      "\n",
      "           A       1.00      1.00      1.00     12960\n",
      "\n",
      "    accuracy                           1.00     12960\n",
      "   macro avg       1.00      1.00      1.00     12960\n",
      "weighted avg       1.00      1.00      1.00     12960\n"
     ]
    },
    {
     "ename": "TypeError",
     "evalue": "'<' not supported between instances of 'str' and 'int'",
     "output_type": "error",
     "traceback": [
      "\u001B[1;31m---------------------------------------------------------------------------\u001B[0m",
      "\u001B[1;31mTypeError\u001B[0m                                 Traceback (most recent call last)",
      "Cell \u001B[1;32mIn[67], line 22\u001B[0m\n\u001B[0;32m     19\u001B[0m \u001B[38;5;28mprint\u001B[39m(classification_report(y_test_encoded, y_pred_binary, target_names\u001B[38;5;241m=\u001B[39mencoder\u001B[38;5;241m.\u001B[39mclasses_))\n\u001B[0;32m     21\u001B[0m \u001B[38;5;66;03m# Confusion matrix\u001B[39;00m\n\u001B[1;32m---> 22\u001B[0m cm \u001B[38;5;241m=\u001B[39m \u001B[43mconfusion_matrix\u001B[49m\u001B[43m(\u001B[49m\n\u001B[0;32m     23\u001B[0m \u001B[43m    \u001B[49m\u001B[43my_test_encoded\u001B[49m\u001B[43m,\u001B[49m\n\u001B[0;32m     24\u001B[0m \u001B[43m    \u001B[49m\u001B[43my_pred_binary\u001B[49m\u001B[43m,\u001B[49m\n\u001B[0;32m     25\u001B[0m \u001B[43m    \u001B[49m\u001B[43mlabels\u001B[49m\u001B[38;5;241;43m=\u001B[39;49m\u001B[43mencoder\u001B[49m\u001B[38;5;241;43m.\u001B[39;49m\u001B[43mclasses_\u001B[49m\n\u001B[0;32m     26\u001B[0m \u001B[43m)\u001B[49m\n\u001B[0;32m     28\u001B[0m \u001B[38;5;66;03m# Plot confusion matrix\u001B[39;00m\n\u001B[0;32m     29\u001B[0m disp \u001B[38;5;241m=\u001B[39m ConfusionMatrixDisplay(confusion_matrix\u001B[38;5;241m=\u001B[39mcm, display_labels\u001B[38;5;241m=\u001B[39mencoder\u001B[38;5;241m.\u001B[39mclasses_)\n",
      "File \u001B[1;32m~\\Programming Projects\\Python\\MachineLearning\\.venv\\Lib\\site-packages\\sklearn\\utils\\_param_validation.py:213\u001B[0m, in \u001B[0;36mvalidate_params.<locals>.decorator.<locals>.wrapper\u001B[1;34m(*args, **kwargs)\u001B[0m\n\u001B[0;32m    207\u001B[0m \u001B[38;5;28;01mtry\u001B[39;00m:\n\u001B[0;32m    208\u001B[0m     \u001B[38;5;28;01mwith\u001B[39;00m config_context(\n\u001B[0;32m    209\u001B[0m         skip_parameter_validation\u001B[38;5;241m=\u001B[39m(\n\u001B[0;32m    210\u001B[0m             prefer_skip_nested_validation \u001B[38;5;129;01mor\u001B[39;00m global_skip_validation\n\u001B[0;32m    211\u001B[0m         )\n\u001B[0;32m    212\u001B[0m     ):\n\u001B[1;32m--> 213\u001B[0m         \u001B[38;5;28;01mreturn\u001B[39;00m \u001B[43mfunc\u001B[49m\u001B[43m(\u001B[49m\u001B[38;5;241;43m*\u001B[39;49m\u001B[43margs\u001B[49m\u001B[43m,\u001B[49m\u001B[43m \u001B[49m\u001B[38;5;241;43m*\u001B[39;49m\u001B[38;5;241;43m*\u001B[39;49m\u001B[43mkwargs\u001B[49m\u001B[43m)\u001B[49m\n\u001B[0;32m    214\u001B[0m \u001B[38;5;28;01mexcept\u001B[39;00m InvalidParameterError \u001B[38;5;28;01mas\u001B[39;00m e:\n\u001B[0;32m    215\u001B[0m     \u001B[38;5;66;03m# When the function is just a wrapper around an estimator, we allow\u001B[39;00m\n\u001B[0;32m    216\u001B[0m     \u001B[38;5;66;03m# the function to delegate validation to the estimator, but we replace\u001B[39;00m\n\u001B[0;32m    217\u001B[0m     \u001B[38;5;66;03m# the name of the estimator by the name of the function in the error\u001B[39;00m\n\u001B[0;32m    218\u001B[0m     \u001B[38;5;66;03m# message to avoid confusion.\u001B[39;00m\n\u001B[0;32m    219\u001B[0m     msg \u001B[38;5;241m=\u001B[39m re\u001B[38;5;241m.\u001B[39msub(\n\u001B[0;32m    220\u001B[0m         \u001B[38;5;124mr\u001B[39m\u001B[38;5;124m\"\u001B[39m\u001B[38;5;124mparameter of \u001B[39m\u001B[38;5;124m\\\u001B[39m\u001B[38;5;124mw+ must be\u001B[39m\u001B[38;5;124m\"\u001B[39m,\n\u001B[0;32m    221\u001B[0m         \u001B[38;5;124mf\u001B[39m\u001B[38;5;124m\"\u001B[39m\u001B[38;5;124mparameter of \u001B[39m\u001B[38;5;132;01m{\u001B[39;00mfunc\u001B[38;5;241m.\u001B[39m\u001B[38;5;18m__qualname__\u001B[39m\u001B[38;5;132;01m}\u001B[39;00m\u001B[38;5;124m must be\u001B[39m\u001B[38;5;124m\"\u001B[39m,\n\u001B[0;32m    222\u001B[0m         \u001B[38;5;28mstr\u001B[39m(e),\n\u001B[0;32m    223\u001B[0m     )\n",
      "File \u001B[1;32m~\\Programming Projects\\Python\\MachineLearning\\.venv\\Lib\\site-packages\\sklearn\\metrics\\_classification.py:355\u001B[0m, in \u001B[0;36mconfusion_matrix\u001B[1;34m(y_true, y_pred, labels, sample_weight, normalize)\u001B[0m\n\u001B[0;32m    353\u001B[0m     \u001B[38;5;28;01melif\u001B[39;00m y_true\u001B[38;5;241m.\u001B[39msize \u001B[38;5;241m==\u001B[39m \u001B[38;5;241m0\u001B[39m:\n\u001B[0;32m    354\u001B[0m         \u001B[38;5;28;01mreturn\u001B[39;00m np\u001B[38;5;241m.\u001B[39mzeros((n_labels, n_labels), dtype\u001B[38;5;241m=\u001B[39m\u001B[38;5;28mint\u001B[39m)\n\u001B[1;32m--> 355\u001B[0m     \u001B[38;5;28;01melif\u001B[39;00m \u001B[38;5;28mlen\u001B[39m(\u001B[43mnp\u001B[49m\u001B[38;5;241;43m.\u001B[39;49m\u001B[43mintersect1d\u001B[49m\u001B[43m(\u001B[49m\u001B[43my_true\u001B[49m\u001B[43m,\u001B[49m\u001B[43m \u001B[49m\u001B[43mlabels\u001B[49m\u001B[43m)\u001B[49m) \u001B[38;5;241m==\u001B[39m \u001B[38;5;241m0\u001B[39m:\n\u001B[0;32m    356\u001B[0m         \u001B[38;5;28;01mraise\u001B[39;00m \u001B[38;5;167;01mValueError\u001B[39;00m(\u001B[38;5;124m\"\u001B[39m\u001B[38;5;124mAt least one label specified must be in y_true\u001B[39m\u001B[38;5;124m\"\u001B[39m)\n\u001B[0;32m    358\u001B[0m \u001B[38;5;28;01mif\u001B[39;00m sample_weight \u001B[38;5;129;01mis\u001B[39;00m \u001B[38;5;28;01mNone\u001B[39;00m:\n",
      "File \u001B[1;32m~\\Programming Projects\\Python\\MachineLearning\\.venv\\Lib\\site-packages\\numpy\\lib\\_arraysetops_impl.py:661\u001B[0m, in \u001B[0;36mintersect1d\u001B[1;34m(ar1, ar2, assume_unique, return_indices)\u001B[0m\n\u001B[0;32m    659\u001B[0m     aux \u001B[38;5;241m=\u001B[39m aux[aux_sort_indices]\n\u001B[0;32m    660\u001B[0m \u001B[38;5;28;01melse\u001B[39;00m:\n\u001B[1;32m--> 661\u001B[0m     \u001B[43maux\u001B[49m\u001B[38;5;241;43m.\u001B[39;49m\u001B[43msort\u001B[49m\u001B[43m(\u001B[49m\u001B[43m)\u001B[49m\n\u001B[0;32m    663\u001B[0m mask \u001B[38;5;241m=\u001B[39m aux[\u001B[38;5;241m1\u001B[39m:] \u001B[38;5;241m==\u001B[39m aux[:\u001B[38;5;241m-\u001B[39m\u001B[38;5;241m1\u001B[39m]\n\u001B[0;32m    664\u001B[0m int1d \u001B[38;5;241m=\u001B[39m aux[:\u001B[38;5;241m-\u001B[39m\u001B[38;5;241m1\u001B[39m][mask]\n",
      "\u001B[1;31mTypeError\u001B[0m: '<' not supported between instances of 'str' and 'int'"
     ]
    }
   ],
   "source": [
    "#TODO: fix confusion matrix for columns that have all the same value\n",
    "from sklearn.metrics import classification_report, confusion_matrix, ConfusionMatrixDisplay\n",
    "import matplotlib.pyplot as plt\n",
    "\n",
    "# Generate predictions\n",
    "y_pred = cnn_model.predict(X_test_cnn)\n",
    "y_pred_binary = (y_pred > 0.5).astype(\"int32\").flatten()\n",
    "\n",
    "# Classification report\n",
    "print(\"Classification Report:\")\n",
    "print(classification_report(y_test_encoded, y_pred_binary, target_names=encoder.classes_))\n",
    "\n",
    "# Confusion matrix\n",
    "cm = confusion_matrix(y_test_encoded, y_pred_binary)\n",
    "\n",
    "# Plot confusion matrix\n",
    "disp = ConfusionMatrixDisplay(confusion_matrix=cm, display_labels=encoder.classes_)\n",
    "disp.plot(cmap='viridis')\n",
    "plt.title(\"Confusion Matrix\")\n",
    "plt.show()"
   ],
   "metadata": {
    "collapsed": false,
    "ExecuteTime": {
     "end_time": "2024-12-01T01:41:55.926470200Z",
     "start_time": "2024-12-01T01:41:54.885789800Z"
    }
   },
   "id": "3789992f3b38db94",
   "execution_count": 67
  },
  {
   "cell_type": "code",
   "outputs": [],
   "source": [
    "# import librosa\n",
    "# import librosa.display\n",
    "# import numpy as np\n",
    "# import matplotlib.pyplot as plt\n",
    "# from tensorflow.keras.preprocessing.sequence import pad_sequences\n",
    "# \n",
    "# def audio_to_mel_spectrogram(audio_features, sample_rate=22050, target_rate=8000, n_mels=32, save_image=False, image_name=\"mel_spectrogram.png\"):\n",
    "#     \"\"\"\n",
    "#     Convert an audio signal to a Mel-spectrogram with adjustments for short signals, stretching, and resampling.\n",
    "#     \n",
    "#     Parameters:\n",
    "#         audio_features (list or np.ndarray): The audio features (raw audio data).\n",
    "#         sample_rate (int): Original sampling rate of the audio signal.\n",
    "#         target_rate (int): Target sampling rate after resampling.\n",
    "#         n_mels (int): Number of Mel bands to generate.\n",
    "#         save_image (bool): Whether to save the spectrogram as an image.\n",
    "#         image_name (str): Name of the image file to save.\n",
    "# \n",
    "#     Returns:\n",
    "#         np.ndarray: The computed Mel-spectrogram.\n",
    "#     \"\"\"\n",
    "#     # Convert to numpy array if audio features are not already in that format\n",
    "#     audio = np.array(audio_features, dtype=np.float32)\n",
    "#     \n",
    "#     # Normalize the audio\n",
    "#     audio = librosa.util.normalize(audio)\n",
    "#     \n",
    "#     # Stretch the audio to artificially lengthen it\n",
    "#     audio = librosa.effects.time_stretch(audio, rate=0.5)  # Stretch to 50% speed\n",
    "#     \n",
    "#     # Resample audio to target sampling rate\n",
    "#     audio = librosa.resample(audio, orig_sr=sample_rate, target_sr=target_rate)\n",
    "#     \n",
    "#     # Pad audio to ensure enough samples\n",
    "#     audio = pad_audio(audio, target_length=8192)  # Pad to 8192 samples\n",
    "#     print(\"Stretched, resampled, and padded audio length:\", len(audio))  # Debug\n",
    "# \n",
    "#     # Compute Mel-spectrogram\n",
    "#     n_fft = 1024\n",
    "#     hop_length = n_fft // 8\n",
    "#     mel_spectrogram = librosa.feature.melspectrogram(\n",
    "#         y=audio, sr=target_rate, n_mels=n_mels, n_fft=n_fft, hop_length=hop_length\n",
    "#     )\n",
    "#     \n",
    "#     # Convert to log scale for better visualization\n",
    "#     mel_spectrogram_db = librosa.power_to_db(mel_spectrogram, ref=np.max)\n",
    "#     \n",
    "#     if save_image:\n",
    "#         # Plot and save the Mel-spectrogram as an image\n",
    "#         plt.figure(figsize=(10, 4))\n",
    "#         librosa.display.specshow(mel_spectrogram_db, sr=target_rate, x_axis='time', y_axis='mel', cmap='viridis')\n",
    "#         plt.colorbar(format='%+2.0f dB')\n",
    "#         plt.title(\"Mel-Spectrogram\")\n",
    "#         plt.tight_layout()\n",
    "#         plt.savefig(image_name)\n",
    "#         plt.close()\n",
    "#     \n",
    "#     return mel_spectrogram_db\n",
    "# \n",
    "# \n",
    "# \n",
    "# \n",
    "# def pad_audio(audio, target_length=2048):\n",
    "#     \"\"\"\n",
    "#     Pads or truncates the audio signal to the target length.\n",
    "#     \"\"\"\n",
    "#     if len(audio) < target_length:\n",
    "#         pad_width = target_length - len(audio)\n",
    "#         return np.pad(audio, (0, pad_width), mode='constant')\n",
    "#     else:\n",
    "#         return audio[:target_length]\n",
    "# \n",
    "# \n",
    "# # Example: Convert an entire dataset's audio features into Mel-spectrograms\n",
    "# # Replace `data['audio_features']` with your actual dataset column containing audio data\n",
    "# mel_spectrograms = []\n",
    "# for idx, audio in enumerate(data['audio_features']):\n",
    "#     mel_spec = audio_to_mel_spectrogram(audio, sample_rate=22050, n_mels=128, save_image=False)\n",
    "#     mel_spectrograms.append(mel_spec)\n",
    "# \n",
    "# # Convert to a NumPy array for further processing\n",
    "# mel_spectrograms = np.array(mel_spectrograms)\n",
    "# \n",
    "# # Standardize the length of Mel-spectrograms\n",
    "# mel_spectrograms_padded = pad_sequences(mel_spectrograms, padding=\"post\", dtype=\"float32\")\n",
    "# \n",
    "# # Print shapes for verification\n",
    "# print(\"Original Mel-spectrograms shape:\", mel_spectrograms.shape)\n",
    "# print(\"Padded Mel-spectrograms shape:\", mel_spectrograms_padded.shape)\n",
    "# \n",
    "# #print(\"Audio length after resampling and padding:\", len(audio))\n",
    "# \n",
    "# plt.figure(figsize=(10, 4))\n",
    "# plt.plot(audio)\n",
    "# plt.title(\"Resampled and Padded Audio Signal\")\n",
    "# plt.xlabel(\"Sample Index\")\n",
    "# plt.ylabel(\"Amplitude\")\n",
    "# plt.show()\n",
    "# \n",
    "# \n",
    "# # Example: Visualize the first Mel-spectrogram\n",
    "# plt.figure(figsize=(10, 4))\n",
    "# librosa.display.specshow(mel_spectrograms[0], sr=22050, x_axis=\"time\", y_axis=\"mel\", cmap=\"viridis\")\n",
    "# plt.colorbar(format=\"%+2.0f dB\")\n",
    "# plt.title(\"Mel-Spectrogram Example\")\n",
    "# plt.show()\n"
   ],
   "metadata": {
    "collapsed": false,
    "ExecuteTime": {
     "start_time": "2024-12-01T01:41:55.919477200Z"
    }
   },
   "id": "c91603842a5a692f",
   "execution_count": null
  },
  {
   "cell_type": "code",
   "outputs": [],
   "source": [],
   "metadata": {
    "collapsed": false,
    "ExecuteTime": {
     "start_time": "2024-12-01T01:41:55.919477200Z"
    }
   },
   "id": "bb754cfff5195c94",
   "execution_count": null
  },
  {
   "cell_type": "code",
   "outputs": [],
   "source": [
    "\n"
   ],
   "metadata": {
    "collapsed": false,
    "ExecuteTime": {
     "start_time": "2024-12-01T01:41:55.921474800Z"
    }
   },
   "id": "29382493966b610d"
  }
 ],
 "metadata": {
  "kernelspec": {
   "display_name": "Python 3",
   "language": "python",
   "name": "python3"
  },
  "language_info": {
   "codemirror_mode": {
    "name": "ipython",
    "version": 2
   },
   "file_extension": ".py",
   "mimetype": "text/x-python",
   "name": "python",
   "nbconvert_exporter": "python",
   "pygments_lexer": "ipython2",
   "version": "2.7.6"
  }
 },
 "nbformat": 4,
 "nbformat_minor": 5
}
