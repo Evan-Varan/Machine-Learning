{
 "cells": [
  {
   "cell_type": "markdown",
   "source": [
    "# 0. Evan Varan, lze4"
   ],
   "metadata": {
    "collapsed": false
   },
   "id": "348f110d52cc9d77"
  },
  {
   "cell_type": "markdown",
   "source": [
    "# 1. Imports"
   ],
   "metadata": {
    "collapsed": false
   },
   "id": "475b1b6fa711de9d"
  },
  {
   "cell_type": "code",
   "outputs": [],
   "source": [
    "import pandas as pd\n",
    "from sklearn import datasets\n",
    "from sklearn.model_selection import train_test_split\n",
    "import pandas as pd\n",
    "from sklearn import datasets\n",
    "from sklearn.model_selection import train_test_split\n",
    "from sklearn.svm import SVC\n",
    "from sklearn.tree import DecisionTreeClassifier\n",
    "from sklearn.neighbors import KNeighborsClassifier\n",
    "from sklearn.ensemble import RandomForestClassifier\n",
    "from sklearn.metrics import accuracy_score\n",
    "from sklearn.utils import Bunch\n",
    "import matplotlib.pyplot as plt"
   ],
   "metadata": {
    "collapsed": false,
    "ExecuteTime": {
     "end_time": "2024-10-08T22:55:20.574477700Z",
     "start_time": "2024-10-08T22:55:20.419126600Z"
    }
   },
   "id": "df3b77e4778b0e81",
   "execution_count": 22
  },
  {
   "cell_type": "markdown",
   "source": [
    "# 2. Load mnist dataset"
   ],
   "metadata": {
    "collapsed": false
   },
   "id": "ea97fa9ce083d59d"
  },
  {
   "cell_type": "code",
   "outputs": [],
   "source": [
    "from sklearn.datasets import fetch_openml\n",
    "mnist = fetch_openml('mnist_784', version=1)\n",
    "X_mnist = mnist.data\n",
    "y_mnist = mnist.target"
   ],
   "metadata": {
    "collapsed": false,
    "ExecuteTime": {
     "end_time": "2024-10-08T22:55:26.193885100Z",
     "start_time": "2024-10-08T22:55:20.576803100Z"
    }
   },
   "id": "9c4e093d00ad1708",
   "execution_count": 23
  },
  {
   "cell_type": "markdown",
   "source": [
    "# 3. Print the first five rows of the dataset"
   ],
   "metadata": {
    "collapsed": false
   },
   "id": "bd78a0a71416152c"
  },
  {
   "cell_type": "code",
   "outputs": [
    {
     "name": "stdout",
     "output_type": "stream",
     "text": [
      "   pixel1  pixel2  pixel3  pixel4  pixel5  pixel6  pixel7  pixel8  pixel9  \\\n",
      "0       0       0       0       0       0       0       0       0       0   \n",
      "1       0       0       0       0       0       0       0       0       0   \n",
      "2       0       0       0       0       0       0       0       0       0   \n",
      "3       0       0       0       0       0       0       0       0       0   \n",
      "4       0       0       0       0       0       0       0       0       0   \n",
      "\n",
      "   pixel10  ...  pixel776  pixel777  pixel778  pixel779  pixel780  pixel781  \\\n",
      "0        0  ...         0         0         0         0         0         0   \n",
      "1        0  ...         0         0         0         0         0         0   \n",
      "2        0  ...         0         0         0         0         0         0   \n",
      "3        0  ...         0         0         0         0         0         0   \n",
      "4        0  ...         0         0         0         0         0         0   \n",
      "\n",
      "   pixel782  pixel783  pixel784  target  \n",
      "0         0         0         0       5  \n",
      "1         0         0         0       0  \n",
      "2         0         0         0       4  \n",
      "3         0         0         0       1  \n",
      "4         0         0         0       9  \n",
      "\n",
      "[5 rows x 785 columns]\n"
     ]
    }
   ],
   "source": [
    "mnist_df = pd.DataFrame(mnist.data, columns=mnist.feature_names)\n",
    "mnist_df['target'] = mnist.target \n",
    "\n",
    "print(mnist_df.head())"
   ],
   "metadata": {
    "collapsed": false,
    "ExecuteTime": {
     "end_time": "2024-10-08T22:55:26.207910600Z",
     "start_time": "2024-10-08T22:55:26.193885100Z"
    }
   },
   "id": "d219160b1501b248",
   "execution_count": 24
  },
  {
   "cell_type": "markdown",
   "source": [
    "# 4. Print the last five rows of the dataset"
   ],
   "metadata": {
    "collapsed": false
   },
   "id": "99e6f3de3255989d"
  },
  {
   "cell_type": "code",
   "outputs": [
    {
     "name": "stdout",
     "output_type": "stream",
     "text": [
      "       pixel1  pixel2  pixel3  pixel4  pixel5  pixel6  pixel7  pixel8  pixel9  \\\n",
      "69995       0       0       0       0       0       0       0       0       0   \n",
      "69996       0       0       0       0       0       0       0       0       0   \n",
      "69997       0       0       0       0       0       0       0       0       0   \n",
      "69998       0       0       0       0       0       0       0       0       0   \n",
      "69999       0       0       0       0       0       0       0       0       0   \n",
      "\n",
      "       pixel10  ...  pixel776  pixel777  pixel778  pixel779  pixel780  \\\n",
      "69995        0  ...         0         0         0         0         0   \n",
      "69996        0  ...         0         0         0         0         0   \n",
      "69997        0  ...         0         0         0         0         0   \n",
      "69998        0  ...         0         0         0         0         0   \n",
      "69999        0  ...         0         0         0         0         0   \n",
      "\n",
      "       pixel781  pixel782  pixel783  pixel784  target  \n",
      "69995         0         0         0         0       2  \n",
      "69996         0         0         0         0       3  \n",
      "69997         0         0         0         0       4  \n",
      "69998         0         0         0         0       5  \n",
      "69999         0         0         0         0       6  \n",
      "\n",
      "[5 rows x 785 columns]\n"
     ]
    }
   ],
   "source": [
    "print(mnist_df.tail())"
   ],
   "metadata": {
    "collapsed": false,
    "ExecuteTime": {
     "end_time": "2024-10-08T22:55:26.292639500Z",
     "start_time": "2024-10-08T22:55:26.210909500Z"
    }
   },
   "id": "37d18a8abd4e04bf",
   "execution_count": 25
  },
  {
   "cell_type": "markdown",
   "source": [
    "# 5. Create a text box and mention about the number of features and number of samples in the dataset"
   ],
   "metadata": {
    "collapsed": false
   },
   "id": "f4e2ae67dfda7895"
  },
  {
   "cell_type": "code",
   "outputs": [
    {
     "name": "stdout",
     "output_type": "stream",
     "text": [
      "Number of samples: 70000\n",
      "Number of features: 785\n"
     ]
    }
   ],
   "source": [
    "num_samples, num_features = mnist_df.shape\n",
    "print(f\"Number of samples: {num_samples}\")\n",
    "print(f\"Number of features: {num_features}\")"
   ],
   "metadata": {
    "collapsed": false,
    "ExecuteTime": {
     "end_time": "2024-10-08T22:55:26.295142200Z",
     "start_time": "2024-10-08T22:55:26.222305600Z"
    }
   },
   "id": "6ca432e05040d8c4",
   "execution_count": 26
  },
  {
   "cell_type": "markdown",
   "source": [
    "# 6. Find out how many unique classes are in the dataset"
   ],
   "metadata": {
    "collapsed": false
   },
   "id": "ea8bc94e79fa32e0"
  },
  {
   "cell_type": "code",
   "outputs": [
    {
     "name": "stdout",
     "output_type": "stream",
     "text": [
      "Unique Classes: ['5', '0', '4', '1', '9', '2', '3', '6', '7', '8']\n",
      "Categories (10, object): ['0', '1', '2', '3', ..., '6', '7', '8', '9']\n",
      "Categories (10, object): ['0', '1', '2', '3', '4', '5', '6', '7', '8', '9']\n",
      "Number of Classes: 10\n"
     ]
    }
   ],
   "source": [
    "unique_classes = mnist_df['target'].unique()\n",
    "num_classes = len(unique_classes)\n",
    "\n",
    "print(f\"Unique Classes: {unique_classes}\")\n",
    "print(f\"Categories ({num_classes}, object): {sorted(unique_classes)}\")\n",
    "print(f\"Number of Classes: {num_classes}\")"
   ],
   "metadata": {
    "collapsed": false,
    "ExecuteTime": {
     "end_time": "2024-10-08T22:55:26.364443900Z",
     "start_time": "2024-10-08T22:55:26.231320700Z"
    }
   },
   "id": "1c60d2729ab7036b",
   "execution_count": 27
  },
  {
   "cell_type": "markdown",
   "source": [
    "# 7. Print the first image of the dataset"
   ],
   "metadata": {
    "collapsed": false
   },
   "id": "ecc618c03bf0d3de"
  },
  {
   "cell_type": "code",
   "outputs": [
    {
     "data": {
      "text/plain": "<Figure size 640x480 with 1 Axes>",
      "image/png": "[encoded data removed]"
     },
     "metadata": {},
     "output_type": "display_data"
    }
   ],
   "source": [
    "first_image = mnist.data.iloc[0].values.reshape(28, 28)\n",
    "\n",
    "plt.imshow(first_image, cmap='gray')\n",
    "plt.title(f\"Label: {mnist.target.iloc[0]}\")\n",
    "plt.show()"
   ],
   "metadata": {
    "collapsed": false,
    "ExecuteTime": {
     "end_time": "2024-10-08T22:55:26.423473700Z",
     "start_time": "2024-10-08T22:55:26.247677900Z"
    }
   },
   "id": "27c1edbd2aa00b",
   "execution_count": 28
  },
  {
   "cell_type": "markdown",
   "source": [
    "# 8. Print the first five images from the dataset"
   ],
   "metadata": {
    "collapsed": false
   },
   "id": "5d4cae3e791df114"
  },
  {
   "cell_type": "code",
   "outputs": [
    {
     "data": {
      "text/plain": "<Figure size 640x480 with 1 Axes>",
      "image/png": "[encoded data removed]"
     },
     "metadata": {},
     "output_type": "display_data"
    },
    {
     "data": {
      "text/plain": "<Figure size 640x480 with 1 Axes>",
      "image/png": "[encoded data removed]"
     },
     "metadata": {},
     "output_type": "display_data"
    },
    {
     "data": {
      "text/plain": "<Figure size 640x480 with 1 Axes>",
      "image/png": "[encoded data removed]"
     },
     "metadata": {},
     "output_type": "display_data"
    },
    {
     "data": {
      "text/plain": "<Figure size 640x480 with 1 Axes>",
      "image/png": "[encoded data removed]"
     },
     "metadata": {},
     "output_type": "display_data"
    },
    {
     "data": {
      "text/plain": "<Figure size 640x480 with 1 Axes>",
      "image/png": "[encoded data removed]"
     },
     "metadata": {},
     "output_type": "display_data"
    }
   ],
   "source": [
    "for i in range(5):\n",
    "    image = mnist.data.iloc[i].values.reshape(28, 28)  \n",
    "    plt.imshow(image, cmap='gray')\n",
    "    plt.title(f\"Label: {mnist.target.iloc[i]}\")\n",
    "    plt.show()"
   ],
   "metadata": {
    "collapsed": false,
    "ExecuteTime": {
     "end_time": "2024-10-08T22:55:27.064292300Z",
     "start_time": "2024-10-08T22:55:26.421476Z"
    }
   },
   "id": "d9b1d90dd6ac9105",
   "execution_count": 29
  },
  {
   "cell_type": "markdown",
   "source": [
    "# 9. Select only 30,000 samples from this dataset to develop the model"
   ],
   "metadata": {
    "collapsed": false
   },
   "id": "d102502c7f714249"
  },
  {
   "cell_type": "code",
   "outputs": [],
   "source": [
    "mnist_subset = mnist_df.sample(n=30000, random_state=42)  \n",
    "\n",
    "X_mnist_subset = mnist_subset.drop(columns=['target'])  \n",
    "y_mnist_subset = mnist_subset['target']"
   ],
   "metadata": {
    "collapsed": false,
    "ExecuteTime": {
     "end_time": "2024-10-08T22:55:27.397434600Z",
     "start_time": "2024-10-08T22:55:27.065290400Z"
    }
   },
   "id": "a0f5c8765f9e32e6",
   "execution_count": 30
  },
  {
   "cell_type": "markdown",
   "source": [
    "# 10. Print the shape of the dataset"
   ],
   "metadata": {
    "collapsed": false
   },
   "id": "c6b15bbaff577545"
  },
  {
   "cell_type": "code",
   "outputs": [
    {
     "name": "stdout",
     "output_type": "stream",
     "text": [
      "Shape of the dataset: (30000, 784)\n"
     ]
    }
   ],
   "source": [
    "print(f\"Shape of the dataset: {X_mnist_subset.shape}\")"
   ],
   "metadata": {
    "collapsed": false,
    "ExecuteTime": {
     "end_time": "2024-10-08T22:55:27.405539900Z",
     "start_time": "2024-10-08T22:55:27.400434Z"
    }
   },
   "id": "967be45355fb5e97",
   "execution_count": 31
  },
  {
   "cell_type": "markdown",
   "source": [
    "# 11.1 Find out the number of samples for each class"
   ],
   "metadata": {
    "collapsed": false
   },
   "id": "c51c8fbe3b09dba1"
  },
  {
   "cell_type": "code",
   "outputs": [
    {
     "name": "stdout",
     "output_type": "stream",
     "text": [
      "target\n",
      "1    3381\n",
      "7    3185\n",
      "9    3029\n",
      "3    3029\n",
      "2    3004\n",
      "6    2975\n",
      "0    2967\n",
      "8    2887\n",
      "4    2844\n",
      "5    2699\n",
      "Name: count, dtype: int64\n"
     ]
    }
   ],
   "source": [
    "class_counts = y_mnist_subset.value_counts()\n",
    "print(class_counts)"
   ],
   "metadata": {
    "collapsed": false,
    "ExecuteTime": {
     "end_time": "2024-10-08T22:55:27.423678600Z",
     "start_time": "2024-10-08T22:55:27.408561Z"
    }
   },
   "id": "3d65af15cc509c6c",
   "execution_count": 32
  },
  {
   "cell_type": "markdown",
   "source": [
    "# 11.2 Split the data into training and test"
   ],
   "metadata": {
    "collapsed": false
   },
   "id": "8baeb0335549404d"
  },
  {
   "cell_type": "code",
   "outputs": [
    {
     "name": "stdout",
     "output_type": "stream",
     "text": [
      "Training set size: (24000, 784)\n",
      "Test set size: (6000, 784)\n"
     ]
    }
   ],
   "source": [
    "X_train, X_test, y_train, y_test = train_test_split(X_mnist_subset, y_mnist_subset, test_size=0.2, random_state=42)\n",
    "\n",
    "print(f\"Training set size: {X_train.shape}\")\n",
    "print(f\"Test set size: {X_test.shape}\")"
   ],
   "metadata": {
    "collapsed": false,
    "ExecuteTime": {
     "end_time": "2024-10-08T22:55:27.686593600Z",
     "start_time": "2024-10-08T22:55:27.422679700Z"
    }
   },
   "id": "d9a127e98a3f3233",
   "execution_count": 33
  },
  {
   "cell_type": "markdown",
   "source": [
    "# 12. Apply svm model for linear and print out training and test accuracy"
   ],
   "metadata": {
    "collapsed": false
   },
   "id": "bce7a46340be6eb2"
  },
  {
   "cell_type": "code",
   "outputs": [
    {
     "name": "stdout",
     "output_type": "stream",
     "text": [
      "Training accuracy (SVM with Linear kernel): 1.0\n",
      "Test accuracy (SVM with Linear kernel): 0.9095\n"
     ]
    }
   ],
   "source": [
    "svm_linear = SVC(kernel='linear', random_state=42)\n",
    "svm_linear.fit(X_train, y_train)\n",
    "\n",
    "train_accuracy_svm_linear = accuracy_score(y_train, svm_linear.predict(X_train))\n",
    "test_accuracy_svm_linear = accuracy_score(y_test, svm_linear.predict(X_test))\n",
    "\n",
    "print(f\"Training accuracy (SVM with Linear kernel): {train_accuracy_svm_linear}\")\n",
    "print(f\"Test accuracy (SVM with Linear kernel): {test_accuracy_svm_linear}\")"
   ],
   "metadata": {
    "collapsed": false,
    "ExecuteTime": {
     "end_time": "2024-10-08T22:58:00.133391500Z",
     "start_time": "2024-10-08T22:55:27.690593400Z"
    }
   },
   "id": "211c93b80a71857b",
   "execution_count": 34
  },
  {
   "cell_type": "markdown",
   "source": [
    "# 13. Apply svm mod for rbf and print out training and test accuracy"
   ],
   "metadata": {
    "collapsed": false
   },
   "id": "70a71b26aa60018f"
  },
  {
   "cell_type": "code",
   "outputs": [
    {
     "name": "stdout",
     "output_type": "stream",
     "text": [
      "Training accuracy (SVM with RBF kernel): 0.9883333333333333\n",
      "Test accuracy (SVM with RBF kernel): 0.9691666666666666\n"
     ]
    }
   ],
   "source": [
    "svm_rbf = SVC(kernel='rbf', random_state=42)\n",
    "svm_rbf.fit(X_train, y_train)\n",
    "\n",
    "train_accuracy_svm_rbf = accuracy_score(y_train, svm_rbf.predict(X_train))\n",
    "test_accuracy_svm_rbf = accuracy_score(y_test, svm_rbf.predict(X_test))\n",
    "\n",
    "print(f\"Training accuracy (SVM with RBF kernel): {train_accuracy_svm_rbf}\")\n",
    "print(f\"Test accuracy (SVM with RBF kernel): {test_accuracy_svm_rbf}\")"
   ],
   "metadata": {
    "collapsed": false,
    "ExecuteTime": {
     "end_time": "2024-10-08T23:01:23.745238600Z",
     "start_time": "2024-10-08T22:58:00.131394400Z"
    }
   },
   "id": "a165789f74eebf21",
   "execution_count": 35
  },
  {
   "cell_type": "markdown",
   "source": [
    "# 14. Apply the decision tree model (depth = 10) and print out training and test accuracy"
   ],
   "metadata": {
    "collapsed": false
   },
   "id": "114f23a085bc7eb"
  },
  {
   "cell_type": "code",
   "outputs": [
    {
     "name": "stdout",
     "output_type": "stream",
     "text": [
      "Training accuracy (Decision Tree): 0.9123333333333333\n",
      "Test accuracy (Decision Tree): 0.8421666666666666\n"
     ]
    }
   ],
   "source": [
    "decision_tree = DecisionTreeClassifier(max_depth=10, random_state=42)\n",
    "decision_tree.fit(X_train, y_train)\n",
    "\n",
    "train_accuracy_dt = accuracy_score(y_train, decision_tree.predict(X_train))\n",
    "test_accuracy_dt = accuracy_score(y_test, decision_tree.predict(X_test))\n",
    "\n",
    "print(f\"Training accuracy (Decision Tree): {train_accuracy_dt}\")\n",
    "print(f\"Test accuracy (Decision Tree): {test_accuracy_dt}\")"
   ],
   "metadata": {
    "collapsed": false,
    "ExecuteTime": {
     "end_time": "2024-10-08T23:01:27.352946200Z",
     "start_time": "2024-10-08T23:01:23.747699900Z"
    }
   },
   "id": "289991557d25b6fd",
   "execution_count": 36
  },
  {
   "cell_type": "markdown",
   "source": [
    "# 15. Apply the knn (neighbor = 5) and print out training and test accuracy"
   ],
   "metadata": {
    "collapsed": false
   },
   "id": "7ffb77f6c418beca"
  },
  {
   "cell_type": "code",
   "outputs": [
    {
     "name": "stdout",
     "output_type": "stream",
     "text": [
      "Training accuracy (KNN): 0.9742083333333333\n",
      "Test accuracy (KNN): 0.9605\n"
     ]
    }
   ],
   "source": [
    "knn = KNeighborsClassifier(n_neighbors=5)\n",
    "knn.fit(X_train, y_train)\n",
    "\n",
    "train_accuracy_knn = accuracy_score(y_train, knn.predict(X_train))\n",
    "test_accuracy_knn = accuracy_score(y_test, knn.predict(X_test))\n",
    "\n",
    "print(f\"Training accuracy (KNN): {train_accuracy_knn}\")\n",
    "print(f\"Test accuracy (KNN): {test_accuracy_knn}\")"
   ],
   "metadata": {
    "collapsed": false,
    "ExecuteTime": {
     "end_time": "2024-10-08T23:01:49.149549800Z",
     "start_time": "2024-10-08T23:01:27.355461500Z"
    }
   },
   "id": "59938ab57e16868c",
   "execution_count": 37
  },
  {
   "cell_type": "markdown",
   "source": [
    "# 16. Apply the random forest model (estimators value = 100) and print out training and test accuracy"
   ],
   "metadata": {
    "collapsed": false
   },
   "id": "967738228c3d10e9"
  },
  {
   "cell_type": "code",
   "outputs": [
    {
     "name": "stdout",
     "output_type": "stream",
     "text": [
      "Training accuracy (Random Forest): 1.0\n",
      "Test accuracy (Random Forest): 0.9595\n"
     ]
    }
   ],
   "source": [
    "random_forest = RandomForestClassifier(n_estimators=100, random_state=42)\n",
    "random_forest.fit(X_train, y_train)\n",
    "\n",
    "train_accuracy_rf = accuracy_score(y_train, random_forest.predict(X_train))\n",
    "test_accuracy_rf = accuracy_score(y_test, random_forest.predict(X_test))\n",
    "\n",
    "print(f\"Training accuracy (Random Forest): {train_accuracy_rf}\")\n",
    "print(f\"Test accuracy (Random Forest): {test_accuracy_rf}\")"
   ],
   "metadata": {
    "collapsed": false,
    "ExecuteTime": {
     "end_time": "2024-10-08T23:02:06.081404300Z",
     "start_time": "2024-10-08T23:01:49.149549800Z"
    }
   },
   "id": "401741c2e4d09eb4",
   "execution_count": 38
  },
  {
   "cell_type": "markdown",
   "source": [
    "# 17. Print out all the models' training accuracy"
   ],
   "metadata": {
    "collapsed": false
   },
   "id": "727e1a950541fd76"
  },
  {
   "cell_type": "code",
   "outputs": [
    {
     "name": "stdout",
     "output_type": "stream",
     "text": [
      "Training Accuracies:\n",
      "SVM (Linear Kernel): 1.0\n",
      "SVM (RBF Kernel): 0.9883333333333333\n",
      "Decision Tree: 0.9123333333333333\n",
      "KNN: 0.9742083333333333\n",
      "Random Forest: 1.0\n"
     ]
    }
   ],
   "source": [
    "print(\"Training Accuracies:\")\n",
    "print(f\"SVM (Linear Kernel): {train_accuracy_svm_linear}\")\n",
    "print(f\"SVM (RBF Kernel): {train_accuracy_svm_rbf}\")\n",
    "print(f\"Decision Tree: {train_accuracy_dt}\")\n",
    "print(f\"KNN: {train_accuracy_knn}\")\n",
    "print(f\"Random Forest: {train_accuracy_rf}\")\n"
   ],
   "metadata": {
    "collapsed": false,
    "ExecuteTime": {
     "end_time": "2024-10-08T23:02:06.086955400Z",
     "start_time": "2024-10-08T23:02:06.084401800Z"
    }
   },
   "id": "c5d9157c95b831c9",
   "execution_count": 39
  },
  {
   "cell_type": "markdown",
   "source": [
    "# 18. Create a bar plot"
   ],
   "metadata": {
    "collapsed": false
   },
   "id": "bfd1636ed460d487"
  },
  {
   "cell_type": "code",
   "outputs": [
    {
     "data": {
      "text/plain": "<Figure size 640x480 with 1 Axes>",
      "image/png": "[encoded data removed]"
     },
     "metadata": {},
     "output_type": "display_data"
    }
   ],
   "source": [
    "model_names = ['SVM (Linear)', 'SVM (RBF)', 'Decision Tree', 'KNN', 'Random Forest']\n",
    "training_accuracies = [train_accuracy_svm_linear, train_accuracy_svm_rbf, train_accuracy_dt, train_accuracy_knn, train_accuracy_rf]\n",
    "\n",
    "plt.bar(model_names, training_accuracies, color=['blue', 'cyan', 'green', 'red', 'purple'])\n",
    "plt.title('Training Accuracy for Different Models')\n",
    "plt.xlabel('Models')\n",
    "plt.ylabel('Training Accuracy')\n",
    "plt.ylim([0, 1]) \n",
    "plt.show()"
   ],
   "metadata": {
    "collapsed": false,
    "ExecuteTime": {
     "end_time": "2024-10-08T23:02:06.223189700Z",
     "start_time": "2024-10-08T23:02:06.089968600Z"
    }
   },
   "id": "f7d14832a7e676e3",
   "execution_count": 40
  },
  {
   "cell_type": "markdown",
   "source": [
    "# 19. Print out all the models' test accuracy"
   ],
   "metadata": {
    "collapsed": false
   },
   "id": "c6ba6a7f47d6c76f"
  },
  {
   "cell_type": "code",
   "outputs": [
    {
     "name": "stdout",
     "output_type": "stream",
     "text": [
      "Test Accuracies:\n",
      "SVM (Linear Kernel): 0.9095\n",
      "SVM (RBF Kernel): 0.9691666666666666\n",
      "Decision Tree: 0.8421666666666666\n",
      "KNN: 0.9605\n",
      "Random Forest: 0.9595\n"
     ]
    }
   ],
   "source": [
    "print(\"Test Accuracies:\")\n",
    "print(f\"SVM (Linear Kernel): {test_accuracy_svm_linear}\")\n",
    "print(f\"SVM (RBF Kernel): {test_accuracy_svm_rbf}\")\n",
    "print(f\"Decision Tree: {test_accuracy_dt}\")\n",
    "print(f\"KNN: {test_accuracy_knn}\")\n",
    "print(f\"Random Forest: {test_accuracy_rf}\")"
   ],
   "metadata": {
    "collapsed": false,
    "ExecuteTime": {
     "end_time": "2024-10-08T23:02:06.228069500Z",
     "start_time": "2024-10-08T23:02:06.223189700Z"
    }
   },
   "id": "3d343427077f584",
   "execution_count": 41
  },
  {
   "cell_type": "markdown",
   "source": [
    "# 20. Create a bar plot"
   ],
   "metadata": {
    "collapsed": false
   },
   "id": "23b1f628a71a03a3"
  },
  {
   "cell_type": "code",
   "outputs": [
    {
     "data": {
      "text/plain": "<Figure size 640x480 with 1 Axes>",
      "image/png": "[encoded data removed]"
     },
     "metadata": {},
     "output_type": "display_data"
    }
   ],
   "source": [
    "test_accuracies = [test_accuracy_svm_linear, test_accuracy_svm_rbf, test_accuracy_dt, test_accuracy_knn, test_accuracy_rf]\n",
    "\n",
    "plt.bar(model_names, test_accuracies, color=['blue', 'cyan', 'green', 'red', 'purple'])\n",
    "plt.title('Test Accuracy for Different Models')\n",
    "plt.xlabel('Models')\n",
    "plt.ylabel('Test Accuracy')\n",
    "plt.ylim([0, 1])\n",
    "plt.show()"
   ],
   "metadata": {
    "collapsed": false,
    "ExecuteTime": {
     "end_time": "2024-10-08T23:02:06.360057400Z",
     "start_time": "2024-10-08T23:02:06.230069600Z"
    }
   },
   "id": "4464bfbe2e87f413",
   "execution_count": 42
  },
  {
   "cell_type": "markdown",
   "source": [
    "# 21. Explanation"
   ],
   "metadata": {
    "collapsed": false
   },
   "id": "5dab3b5dafd30609"
  },
  {
   "cell_type": "markdown",
   "source": [
    "I would personally select the SVM(rbf) model as it has the highest accuracy as shown above in the bar graph. \n",
    "The difference between applying linear kernel and non-linear kernel is that a linear kernel should be used if the data is linearly seperaable.\n",
    "A non-linear kernel should be used if the data is non-linearly seperable.\n",
    "Individual decision trees are usually less accurate than random forests. This is because a random forest is a combination of decision trees and averages the predictions of multiple trees."
   ],
   "metadata": {
    "collapsed": false
   },
   "id": "9c62206bf55051db"
  }
 ],
 "metadata": {
  "kernelspec": {
   "display_name": "Python 3",
   "language": "python",
   "name": "python3"
  },
  "language_info": {
   "codemirror_mode": {
    "name": "ipython",
    "version": 2
   },
   "file_extension": ".py",
   "mimetype": "text/x-python",
   "name": "python",
   "nbconvert_exporter": "python",
   "pygments_lexer": "ipython2",
   "version": "2.7.6"
  }
 },
 "nbformat": 4,
 "nbformat_minor": 5
}
